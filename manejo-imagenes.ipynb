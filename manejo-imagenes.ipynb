{
 "cells": [
  {
   "cell_type": "code",
   "execution_count": 1,
   "id": "a11195c7",
   "metadata": {
    "_cell_guid": "b1076dfc-b9ad-4769-8c92-a6c4dae69d19",
    "_uuid": "8f2839f25d086af736a60e9eeb907d3b93b6e0e5",
    "execution": {
     "iopub.execute_input": "2023-03-25T00:16:15.425521Z",
     "iopub.status.busy": "2023-03-25T00:16:15.425105Z",
     "iopub.status.idle": "2023-03-25T00:16:15.434640Z",
     "shell.execute_reply": "2023-03-25T00:16:15.433654Z"
    },
    "papermill": {
     "duration": 0.016736,
     "end_time": "2023-03-25T00:16:15.437293",
     "exception": false,
     "start_time": "2023-03-25T00:16:15.420557",
     "status": "completed"
    },
    "tags": []
   },
   "outputs": [],
   "source": [
    "import numpy as np # linear algebra\n",
    "import pandas as pd # data processing, CSV file I/O (e.g. pd.read_csv)"
   ]
  },
  {
   "cell_type": "code",
   "execution_count": null,
   "id": "b9b3926b",
   "metadata": {
    "papermill": {
     "duration": 0.001266,
     "end_time": "2023-03-25T00:16:15.440496",
     "exception": false,
     "start_time": "2023-03-25T00:16:15.439230",
     "status": "completed"
    },
    "tags": []
   },
   "outputs": [],
   "source": []
  }
 ],
 "metadata": {
  "kernelspec": {
   "display_name": "Python 3",
   "language": "python",
   "name": "python3"
  },
  "language_info": {
   "codemirror_mode": {
    "name": "ipython",
    "version": 3
   },
   "file_extension": ".py",
   "mimetype": "text/x-python",
   "name": "python",
   "nbconvert_exporter": "python",
   "pygments_lexer": "ipython3",
   "version": "3.7.12"
  },
  "papermill": {
   "default_parameters": {},
   "duration": 11.069734,
   "end_time": "2023-03-25T00:16:16.064251",
   "environment_variables": {},
   "exception": null,
   "input_path": "__notebook__.ipynb",
   "output_path": "__notebook__.ipynb",
   "parameters": {},
   "start_time": "2023-03-25T00:16:04.994517",
   "version": "2.4.0"
  }
 },
 "nbformat": 4,
 "nbformat_minor": 5
}
